{
 "cells": [
  {
   "cell_type": "markdown",
   "id": "f8ac1fe7",
   "metadata": {},
   "source": [
    "# 1 Google Play Store Apps and Reviews\n",
    "\n",
    "Mobile apps are everywhere. They are easy to create and can be lucrative. Because of these two factors, more and more apps are being developed. In this notebook, we will do a comprehensive analysis of the Android app market by comparing over ten thousand apps in Google Play across different categories. We'll look for insights in the data to devise strategies to drive growth and retention.\n",
    "\n",
    "Let's take a look at the data, which consists of two files:\n",
    "\n",
    "1. apps.csv: contains all the details of the applications on Google Play. There are 13 features that describe a given app.\n",
    "\n",
    "2. user_reviews.csv: contains 100 reviews for each app, most helpful first. The text in each review has been pre-processed and attributed with three new features: Sentiment (Positive, Negative or Neutral), Sentiment Polarity and Sentiment Subjectivity.\n",
    "\n",
    "<img src = \"https://assets.datacamp.com/production/project_619/img/google_play_store.png\">"
   ]
  },
  {
   "cell_type": "markdown",
   "id": "f95dc7b6",
   "metadata": {},
   "source": [
    "### 1.1 Import the Software Libraries"
   ]
  },
  {
   "cell_type": "code",
   "execution_count": 16,
   "id": "1352fa2d",
   "metadata": {},
   "outputs": [],
   "source": [
    "import pandas as pd\n",
    "import numpy as np\n",
    "import matplotlib.pyplot as plt"
   ]
  },
  {
   "cell_type": "markdown",
   "id": "731bdc1f",
   "metadata": {},
   "source": [
    "### 1.2 Read the Apps Dataset"
   ]
  },
  {
   "cell_type": "code",
   "execution_count": 17,
   "id": "5c862426",
   "metadata": {},
   "outputs": [],
   "source": [
    "# Write your code here\n",
    "apps = pd.read_csv(\"datasets/apps.csv\")"
   ]
  },
  {
   "cell_type": "markdown",
   "id": "92ec1367",
   "metadata": {},
   "source": [
    "### 1.3 Print the first five rows"
   ]
  },
  {
   "cell_type": "code",
   "execution_count": 18,
   "id": "147d18e9",
   "metadata": {},
   "outputs": [
    {
     "data": {
      "text/html": [
       "<div>\n",
       "<style scoped>\n",
       "    .dataframe tbody tr th:only-of-type {\n",
       "        vertical-align: middle;\n",
       "    }\n",
       "\n",
       "    .dataframe tbody tr th {\n",
       "        vertical-align: top;\n",
       "    }\n",
       "\n",
       "    .dataframe thead th {\n",
       "        text-align: right;\n",
       "    }\n",
       "</style>\n",
       "<table border=\"1\" class=\"dataframe\">\n",
       "  <thead>\n",
       "    <tr style=\"text-align: right;\">\n",
       "      <th></th>\n",
       "      <th>Unnamed: 0</th>\n",
       "      <th>App</th>\n",
       "      <th>Category</th>\n",
       "      <th>Rating</th>\n",
       "      <th>Reviews</th>\n",
       "      <th>Size</th>\n",
       "      <th>Installs</th>\n",
       "      <th>Type</th>\n",
       "      <th>Price</th>\n",
       "      <th>Content Rating</th>\n",
       "      <th>Genres</th>\n",
       "      <th>Last Updated</th>\n",
       "      <th>Current Ver</th>\n",
       "      <th>Android Ver</th>\n",
       "    </tr>\n",
       "  </thead>\n",
       "  <tbody>\n",
       "    <tr>\n",
       "      <th>0</th>\n",
       "      <td>0</td>\n",
       "      <td>Photo Editor &amp; Candy Camera &amp; Grid &amp; ScrapBook</td>\n",
       "      <td>ART_AND_DESIGN</td>\n",
       "      <td>4.1</td>\n",
       "      <td>159</td>\n",
       "      <td>19.0</td>\n",
       "      <td>10,000+</td>\n",
       "      <td>Free</td>\n",
       "      <td>0</td>\n",
       "      <td>Everyone</td>\n",
       "      <td>Art &amp; Design</td>\n",
       "      <td>January 7, 2018</td>\n",
       "      <td>1.0.0</td>\n",
       "      <td>4.0.3 and up</td>\n",
       "    </tr>\n",
       "    <tr>\n",
       "      <th>1</th>\n",
       "      <td>1</td>\n",
       "      <td>Coloring book moana</td>\n",
       "      <td>ART_AND_DESIGN</td>\n",
       "      <td>3.9</td>\n",
       "      <td>967</td>\n",
       "      <td>14.0</td>\n",
       "      <td>500,000+</td>\n",
       "      <td>Free</td>\n",
       "      <td>0</td>\n",
       "      <td>Everyone</td>\n",
       "      <td>Art &amp; Design;Pretend Play</td>\n",
       "      <td>January 15, 2018</td>\n",
       "      <td>2.0.0</td>\n",
       "      <td>4.0.3 and up</td>\n",
       "    </tr>\n",
       "    <tr>\n",
       "      <th>2</th>\n",
       "      <td>2</td>\n",
       "      <td>U Launcher Lite – FREE Live Cool Themes, Hide ...</td>\n",
       "      <td>ART_AND_DESIGN</td>\n",
       "      <td>4.7</td>\n",
       "      <td>87510</td>\n",
       "      <td>8.7</td>\n",
       "      <td>5,000,000+</td>\n",
       "      <td>Free</td>\n",
       "      <td>0</td>\n",
       "      <td>Everyone</td>\n",
       "      <td>Art &amp; Design</td>\n",
       "      <td>August 1, 2018</td>\n",
       "      <td>1.2.4</td>\n",
       "      <td>4.0.3 and up</td>\n",
       "    </tr>\n",
       "    <tr>\n",
       "      <th>3</th>\n",
       "      <td>3</td>\n",
       "      <td>Sketch - Draw &amp; Paint</td>\n",
       "      <td>ART_AND_DESIGN</td>\n",
       "      <td>4.5</td>\n",
       "      <td>215644</td>\n",
       "      <td>25.0</td>\n",
       "      <td>50,000,000+</td>\n",
       "      <td>Free</td>\n",
       "      <td>0</td>\n",
       "      <td>Teen</td>\n",
       "      <td>Art &amp; Design</td>\n",
       "      <td>June 8, 2018</td>\n",
       "      <td>Varies with device</td>\n",
       "      <td>4.2 and up</td>\n",
       "    </tr>\n",
       "    <tr>\n",
       "      <th>4</th>\n",
       "      <td>4</td>\n",
       "      <td>Pixel Draw - Number Art Coloring Book</td>\n",
       "      <td>ART_AND_DESIGN</td>\n",
       "      <td>4.3</td>\n",
       "      <td>967</td>\n",
       "      <td>2.8</td>\n",
       "      <td>100,000+</td>\n",
       "      <td>Free</td>\n",
       "      <td>0</td>\n",
       "      <td>Everyone</td>\n",
       "      <td>Art &amp; Design;Creativity</td>\n",
       "      <td>June 20, 2018</td>\n",
       "      <td>1.1</td>\n",
       "      <td>4.4 and up</td>\n",
       "    </tr>\n",
       "  </tbody>\n",
       "</table>\n",
       "</div>"
      ],
      "text/plain": [
       "   Unnamed: 0                                                App  \\\n",
       "0           0     Photo Editor & Candy Camera & Grid & ScrapBook   \n",
       "1           1                                Coloring book moana   \n",
       "2           2  U Launcher Lite – FREE Live Cool Themes, Hide ...   \n",
       "3           3                              Sketch - Draw & Paint   \n",
       "4           4              Pixel Draw - Number Art Coloring Book   \n",
       "\n",
       "         Category  Rating  Reviews  Size     Installs  Type Price  \\\n",
       "0  ART_AND_DESIGN     4.1      159  19.0      10,000+  Free     0   \n",
       "1  ART_AND_DESIGN     3.9      967  14.0     500,000+  Free     0   \n",
       "2  ART_AND_DESIGN     4.7    87510   8.7   5,000,000+  Free     0   \n",
       "3  ART_AND_DESIGN     4.5   215644  25.0  50,000,000+  Free     0   \n",
       "4  ART_AND_DESIGN     4.3      967   2.8     100,000+  Free     0   \n",
       "\n",
       "  Content Rating                     Genres      Last Updated  \\\n",
       "0       Everyone               Art & Design   January 7, 2018   \n",
       "1       Everyone  Art & Design;Pretend Play  January 15, 2018   \n",
       "2       Everyone               Art & Design    August 1, 2018   \n",
       "3           Teen               Art & Design      June 8, 2018   \n",
       "4       Everyone    Art & Design;Creativity     June 20, 2018   \n",
       "\n",
       "          Current Ver   Android Ver  \n",
       "0               1.0.0  4.0.3 and up  \n",
       "1               2.0.0  4.0.3 and up  \n",
       "2               1.2.4  4.0.3 and up  \n",
       "3  Varies with device    4.2 and up  \n",
       "4                 1.1    4.4 and up  "
      ]
     },
     "execution_count": 18,
     "metadata": {},
     "output_type": "execute_result"
    }
   ],
   "source": [
    "# Write your code here\n",
    "apps.head()"
   ]
  },
  {
   "cell_type": "code",
   "execution_count": 19,
   "id": "96b5ac49",
   "metadata": {},
   "outputs": [],
   "source": [
    "# Output :-"
   ]
  },
  {
   "cell_type": "markdown",
   "id": "704b44d9",
   "metadata": {},
   "source": [
    "### 1.4 Drop the Unnamed: 0 Column"
   ]
  },
  {
   "cell_type": "code",
   "execution_count": 35,
   "id": "dee1ee87",
   "metadata": {},
   "outputs": [],
   "source": [
    "# Write your code here\n",
    "apps.drop([\"Unnamed: 0\"],axis=1, inplace=True )"
   ]
  },
  {
   "cell_type": "code",
   "execution_count": 36,
   "id": "4c8c34a9",
   "metadata": {},
   "outputs": [
    {
     "data": {
      "text/html": [
       "<div>\n",
       "<style scoped>\n",
       "    .dataframe tbody tr th:only-of-type {\n",
       "        vertical-align: middle;\n",
       "    }\n",
       "\n",
       "    .dataframe tbody tr th {\n",
       "        vertical-align: top;\n",
       "    }\n",
       "\n",
       "    .dataframe thead th {\n",
       "        text-align: right;\n",
       "    }\n",
       "</style>\n",
       "<table border=\"1\" class=\"dataframe\">\n",
       "  <thead>\n",
       "    <tr style=\"text-align: right;\">\n",
       "      <th></th>\n",
       "      <th>App</th>\n",
       "      <th>Category</th>\n",
       "      <th>Rating</th>\n",
       "      <th>Reviews</th>\n",
       "      <th>Size</th>\n",
       "      <th>Installs</th>\n",
       "      <th>Type</th>\n",
       "      <th>Price</th>\n",
       "      <th>Content Rating</th>\n",
       "      <th>Genres</th>\n",
       "      <th>Last Updated</th>\n",
       "      <th>Current Ver</th>\n",
       "      <th>Android Ver</th>\n",
       "    </tr>\n",
       "  </thead>\n",
       "  <tbody>\n",
       "    <tr>\n",
       "      <th>0</th>\n",
       "      <td>Photo Editor &amp; Candy Camera &amp; Grid &amp; ScrapBook</td>\n",
       "      <td>ART_AND_DESIGN</td>\n",
       "      <td>4.1</td>\n",
       "      <td>159</td>\n",
       "      <td>19.0</td>\n",
       "      <td>10,000+</td>\n",
       "      <td>Free</td>\n",
       "      <td>0</td>\n",
       "      <td>Everyone</td>\n",
       "      <td>Art &amp; Design</td>\n",
       "      <td>January 7, 2018</td>\n",
       "      <td>1.0.0</td>\n",
       "      <td>4.0.3 and up</td>\n",
       "    </tr>\n",
       "    <tr>\n",
       "      <th>1</th>\n",
       "      <td>Coloring book moana</td>\n",
       "      <td>ART_AND_DESIGN</td>\n",
       "      <td>3.9</td>\n",
       "      <td>967</td>\n",
       "      <td>14.0</td>\n",
       "      <td>500,000+</td>\n",
       "      <td>Free</td>\n",
       "      <td>0</td>\n",
       "      <td>Everyone</td>\n",
       "      <td>Art &amp; Design;Pretend Play</td>\n",
       "      <td>January 15, 2018</td>\n",
       "      <td>2.0.0</td>\n",
       "      <td>4.0.3 and up</td>\n",
       "    </tr>\n",
       "    <tr>\n",
       "      <th>2</th>\n",
       "      <td>U Launcher Lite – FREE Live Cool Themes, Hide ...</td>\n",
       "      <td>ART_AND_DESIGN</td>\n",
       "      <td>4.7</td>\n",
       "      <td>87510</td>\n",
       "      <td>8.7</td>\n",
       "      <td>5,000,000+</td>\n",
       "      <td>Free</td>\n",
       "      <td>0</td>\n",
       "      <td>Everyone</td>\n",
       "      <td>Art &amp; Design</td>\n",
       "      <td>August 1, 2018</td>\n",
       "      <td>1.2.4</td>\n",
       "      <td>4.0.3 and up</td>\n",
       "    </tr>\n",
       "    <tr>\n",
       "      <th>3</th>\n",
       "      <td>Sketch - Draw &amp; Paint</td>\n",
       "      <td>ART_AND_DESIGN</td>\n",
       "      <td>4.5</td>\n",
       "      <td>215644</td>\n",
       "      <td>25.0</td>\n",
       "      <td>50,000,000+</td>\n",
       "      <td>Free</td>\n",
       "      <td>0</td>\n",
       "      <td>Teen</td>\n",
       "      <td>Art &amp; Design</td>\n",
       "      <td>June 8, 2018</td>\n",
       "      <td>Varies with device</td>\n",
       "      <td>4.2 and up</td>\n",
       "    </tr>\n",
       "    <tr>\n",
       "      <th>4</th>\n",
       "      <td>Pixel Draw - Number Art Coloring Book</td>\n",
       "      <td>ART_AND_DESIGN</td>\n",
       "      <td>4.3</td>\n",
       "      <td>967</td>\n",
       "      <td>2.8</td>\n",
       "      <td>100,000+</td>\n",
       "      <td>Free</td>\n",
       "      <td>0</td>\n",
       "      <td>Everyone</td>\n",
       "      <td>Art &amp; Design;Creativity</td>\n",
       "      <td>June 20, 2018</td>\n",
       "      <td>1.1</td>\n",
       "      <td>4.4 and up</td>\n",
       "    </tr>\n",
       "    <tr>\n",
       "      <th>...</th>\n",
       "      <td>...</td>\n",
       "      <td>...</td>\n",
       "      <td>...</td>\n",
       "      <td>...</td>\n",
       "      <td>...</td>\n",
       "      <td>...</td>\n",
       "      <td>...</td>\n",
       "      <td>...</td>\n",
       "      <td>...</td>\n",
       "      <td>...</td>\n",
       "      <td>...</td>\n",
       "      <td>...</td>\n",
       "      <td>...</td>\n",
       "    </tr>\n",
       "    <tr>\n",
       "      <th>9654</th>\n",
       "      <td>Sya9a Maroc - FR</td>\n",
       "      <td>FAMILY</td>\n",
       "      <td>4.5</td>\n",
       "      <td>38</td>\n",
       "      <td>53.0</td>\n",
       "      <td>5,000+</td>\n",
       "      <td>Free</td>\n",
       "      <td>0</td>\n",
       "      <td>Everyone</td>\n",
       "      <td>Education</td>\n",
       "      <td>July 25, 2017</td>\n",
       "      <td>1.48</td>\n",
       "      <td>4.1 and up</td>\n",
       "    </tr>\n",
       "    <tr>\n",
       "      <th>9655</th>\n",
       "      <td>Fr. Mike Schmitz Audio Teachings</td>\n",
       "      <td>FAMILY</td>\n",
       "      <td>5.0</td>\n",
       "      <td>4</td>\n",
       "      <td>3.6</td>\n",
       "      <td>100+</td>\n",
       "      <td>Free</td>\n",
       "      <td>0</td>\n",
       "      <td>Everyone</td>\n",
       "      <td>Education</td>\n",
       "      <td>July 6, 2018</td>\n",
       "      <td>1</td>\n",
       "      <td>4.1 and up</td>\n",
       "    </tr>\n",
       "    <tr>\n",
       "      <th>9656</th>\n",
       "      <td>Parkinson Exercices FR</td>\n",
       "      <td>MEDICAL</td>\n",
       "      <td>NaN</td>\n",
       "      <td>3</td>\n",
       "      <td>9.5</td>\n",
       "      <td>1,000+</td>\n",
       "      <td>Free</td>\n",
       "      <td>0</td>\n",
       "      <td>Everyone</td>\n",
       "      <td>Medical</td>\n",
       "      <td>January 20, 2017</td>\n",
       "      <td>1</td>\n",
       "      <td>2.2 and up</td>\n",
       "    </tr>\n",
       "    <tr>\n",
       "      <th>9657</th>\n",
       "      <td>The SCP Foundation DB fr nn5n</td>\n",
       "      <td>BOOKS_AND_REFERENCE</td>\n",
       "      <td>4.5</td>\n",
       "      <td>114</td>\n",
       "      <td>NaN</td>\n",
       "      <td>1,000+</td>\n",
       "      <td>Free</td>\n",
       "      <td>0</td>\n",
       "      <td>Mature 17+</td>\n",
       "      <td>Books &amp; Reference</td>\n",
       "      <td>January 19, 2015</td>\n",
       "      <td>Varies with device</td>\n",
       "      <td>Varies with device</td>\n",
       "    </tr>\n",
       "    <tr>\n",
       "      <th>9658</th>\n",
       "      <td>iHoroscope - 2018 Daily Horoscope &amp; Astrology</td>\n",
       "      <td>LIFESTYLE</td>\n",
       "      <td>4.5</td>\n",
       "      <td>398307</td>\n",
       "      <td>19.0</td>\n",
       "      <td>10,000,000+</td>\n",
       "      <td>Free</td>\n",
       "      <td>0</td>\n",
       "      <td>Everyone</td>\n",
       "      <td>Lifestyle</td>\n",
       "      <td>July 25, 2018</td>\n",
       "      <td>Varies with device</td>\n",
       "      <td>Varies with device</td>\n",
       "    </tr>\n",
       "  </tbody>\n",
       "</table>\n",
       "<p>9659 rows × 13 columns</p>\n",
       "</div>"
      ],
      "text/plain": [
       "                                                    App             Category  \\\n",
       "0        Photo Editor & Candy Camera & Grid & ScrapBook       ART_AND_DESIGN   \n",
       "1                                   Coloring book moana       ART_AND_DESIGN   \n",
       "2     U Launcher Lite – FREE Live Cool Themes, Hide ...       ART_AND_DESIGN   \n",
       "3                                 Sketch - Draw & Paint       ART_AND_DESIGN   \n",
       "4                 Pixel Draw - Number Art Coloring Book       ART_AND_DESIGN   \n",
       "...                                                 ...                  ...   \n",
       "9654                                   Sya9a Maroc - FR               FAMILY   \n",
       "9655                   Fr. Mike Schmitz Audio Teachings               FAMILY   \n",
       "9656                             Parkinson Exercices FR              MEDICAL   \n",
       "9657                      The SCP Foundation DB fr nn5n  BOOKS_AND_REFERENCE   \n",
       "9658      iHoroscope - 2018 Daily Horoscope & Astrology            LIFESTYLE   \n",
       "\n",
       "      Rating  Reviews  Size     Installs  Type Price Content Rating  \\\n",
       "0        4.1      159  19.0      10,000+  Free     0       Everyone   \n",
       "1        3.9      967  14.0     500,000+  Free     0       Everyone   \n",
       "2        4.7    87510   8.7   5,000,000+  Free     0       Everyone   \n",
       "3        4.5   215644  25.0  50,000,000+  Free     0           Teen   \n",
       "4        4.3      967   2.8     100,000+  Free     0       Everyone   \n",
       "...      ...      ...   ...          ...   ...   ...            ...   \n",
       "9654     4.5       38  53.0       5,000+  Free     0       Everyone   \n",
       "9655     5.0        4   3.6         100+  Free     0       Everyone   \n",
       "9656     NaN        3   9.5       1,000+  Free     0       Everyone   \n",
       "9657     4.5      114   NaN       1,000+  Free     0     Mature 17+   \n",
       "9658     4.5   398307  19.0  10,000,000+  Free     0       Everyone   \n",
       "\n",
       "                         Genres      Last Updated         Current Ver  \\\n",
       "0                  Art & Design   January 7, 2018               1.0.0   \n",
       "1     Art & Design;Pretend Play  January 15, 2018               2.0.0   \n",
       "2                  Art & Design    August 1, 2018               1.2.4   \n",
       "3                  Art & Design      June 8, 2018  Varies with device   \n",
       "4       Art & Design;Creativity     June 20, 2018                 1.1   \n",
       "...                         ...               ...                 ...   \n",
       "9654                  Education     July 25, 2017                1.48   \n",
       "9655                  Education      July 6, 2018                   1   \n",
       "9656                    Medical  January 20, 2017                   1   \n",
       "9657          Books & Reference  January 19, 2015  Varies with device   \n",
       "9658                  Lifestyle     July 25, 2018  Varies with device   \n",
       "\n",
       "             Android Ver  \n",
       "0           4.0.3 and up  \n",
       "1           4.0.3 and up  \n",
       "2           4.0.3 and up  \n",
       "3             4.2 and up  \n",
       "4             4.4 and up  \n",
       "...                  ...  \n",
       "9654          4.1 and up  \n",
       "9655          4.1 and up  \n",
       "9656          2.2 and up  \n",
       "9657  Varies with device  \n",
       "9658  Varies with device  \n",
       "\n",
       "[9659 rows x 13 columns]"
      ]
     },
     "execution_count": 36,
     "metadata": {},
     "output_type": "execute_result"
    }
   ],
   "source": [
    "# Output\n",
    "apps"
   ]
  },
  {
   "cell_type": "markdown",
   "id": "92932c4f",
   "metadata": {},
   "source": [
    "### 1.5 Print the Number of rows and columns"
   ]
  },
  {
   "cell_type": "code",
   "execution_count": 37,
   "id": "8b1d852b",
   "metadata": {},
   "outputs": [
    {
     "data": {
      "text/plain": [
       "(9659, 13)"
      ]
     },
     "execution_count": 37,
     "metadata": {},
     "output_type": "execute_result"
    }
   ],
   "source": [
    "# Write your code here\n",
    "apps.shape"
   ]
  },
  {
   "cell_type": "code",
   "execution_count": 5,
   "id": "61e54c70",
   "metadata": {},
   "outputs": [
    {
     "data": {
      "text/plain": [
       "(9659, 13)"
      ]
     },
     "execution_count": 5,
     "metadata": {},
     "output_type": "execute_result"
    }
   ],
   "source": [
    "# Output :-"
   ]
  },
  {
   "cell_type": "markdown",
   "id": "d3ac3b47",
   "metadata": {},
   "source": [
    "### 1.6 Print the Basic Information of the dataset"
   ]
  },
  {
   "cell_type": "code",
   "execution_count": 38,
   "id": "214f9268",
   "metadata": {},
   "outputs": [
    {
     "name": "stdout",
     "output_type": "stream",
     "text": [
      "<class 'pandas.core.frame.DataFrame'>\n",
      "RangeIndex: 9659 entries, 0 to 9658\n",
      "Data columns (total 13 columns):\n",
      " #   Column          Non-Null Count  Dtype  \n",
      "---  ------          --------------  -----  \n",
      " 0   App             9659 non-null   object \n",
      " 1   Category        9659 non-null   object \n",
      " 2   Rating          8196 non-null   float64\n",
      " 3   Reviews         9659 non-null   int64  \n",
      " 4   Size            8432 non-null   float64\n",
      " 5   Installs        9659 non-null   object \n",
      " 6   Type            9659 non-null   object \n",
      " 7   Price           9659 non-null   object \n",
      " 8   Content Rating  9659 non-null   object \n",
      " 9   Genres          9659 non-null   object \n",
      " 10  Last Updated    9659 non-null   object \n",
      " 11  Current Ver     9651 non-null   object \n",
      " 12  Android Ver     9657 non-null   object \n",
      "dtypes: float64(2), int64(1), object(10)\n",
      "memory usage: 981.1+ KB\n"
     ]
    }
   ],
   "source": [
    "# Write your code here\n",
    "apps.info()"
   ]
  },
  {
   "cell_type": "code",
   "execution_count": 6,
   "id": "5c1bf1fa",
   "metadata": {},
   "outputs": [
    {
     "name": "stdout",
     "output_type": "stream",
     "text": [
      "<class 'pandas.core.frame.DataFrame'>\n",
      "RangeIndex: 9659 entries, 0 to 9658\n",
      "Data columns (total 13 columns):\n",
      " #   Column          Non-Null Count  Dtype  \n",
      "---  ------          --------------  -----  \n",
      " 0   App             9659 non-null   object \n",
      " 1   Category        9659 non-null   object \n",
      " 2   Rating          8196 non-null   float64\n",
      " 3   Reviews         9659 non-null   int64  \n",
      " 4   Size            8432 non-null   float64\n",
      " 5   Installs        9659 non-null   object \n",
      " 6   Type            9659 non-null   object \n",
      " 7   Price           9659 non-null   object \n",
      " 8   Content Rating  9659 non-null   object \n",
      " 9   Genres          9659 non-null   object \n",
      " 10  Last Updated    9659 non-null   object \n",
      " 11  Current Ver     9651 non-null   object \n",
      " 12  Android Ver     9657 non-null   object \n",
      "dtypes: float64(2), int64(1), object(10)\n",
      "memory usage: 981.1+ KB\n"
     ]
    }
   ],
   "source": [
    "# Output :-"
   ]
  },
  {
   "cell_type": "markdown",
   "id": "e6c075a4",
   "metadata": {},
   "source": [
    "### 1.7 Check for the Duplicated Values\n",
    "\n",
    "- If there are duplicated values, then drop them."
   ]
  },
  {
   "cell_type": "code",
   "execution_count": 39,
   "id": "9ab7587f",
   "metadata": {},
   "outputs": [
    {
     "data": {
      "text/plain": [
       "0"
      ]
     },
     "execution_count": 39,
     "metadata": {},
     "output_type": "execute_result"
    }
   ],
   "source": [
    "# Write your code here\n",
    "apps.duplicated().sum()"
   ]
  },
  {
   "cell_type": "code",
   "execution_count": 7,
   "id": "339064c3",
   "metadata": {},
   "outputs": [
    {
     "data": {
      "text/plain": [
       "0"
      ]
     },
     "execution_count": 7,
     "metadata": {},
     "output_type": "execute_result"
    }
   ],
   "source": [
    "# Output :-"
   ]
  },
  {
   "cell_type": "markdown",
   "id": "c0671ea1",
   "metadata": {},
   "source": [
    "### 1.8 Check for the Missing Values\n",
    "\n",
    "- Just check.\n",
    "- How many missing values for each column?"
   ]
  },
  {
   "cell_type": "code",
   "execution_count": 40,
   "id": "66ae4630",
   "metadata": {},
   "outputs": [
    {
     "data": {
      "text/plain": [
       "App                  0\n",
       "Category             0\n",
       "Rating            1463\n",
       "Reviews              0\n",
       "Size              1227\n",
       "Installs             0\n",
       "Type                 0\n",
       "Price                0\n",
       "Content Rating       0\n",
       "Genres               0\n",
       "Last Updated         0\n",
       "Current Ver          8\n",
       "Android Ver          2\n",
       "dtype: int64"
      ]
     },
     "execution_count": 40,
     "metadata": {},
     "output_type": "execute_result"
    }
   ],
   "source": [
    "# Write your code here\n",
    "apps.isnull().sum()"
   ]
  },
  {
   "cell_type": "code",
   "execution_count": 8,
   "id": "dbaa1d40",
   "metadata": {},
   "outputs": [
    {
     "data": {
      "text/plain": [
       "App                  0\n",
       "Category             0\n",
       "Rating            1463\n",
       "Reviews              0\n",
       "Size              1227\n",
       "Installs             0\n",
       "Type                 0\n",
       "Price                0\n",
       "Content Rating       0\n",
       "Genres               0\n",
       "Last Updated         0\n",
       "Current Ver          8\n",
       "Android Ver          2\n",
       "dtype: int64"
      ]
     },
     "execution_count": 8,
     "metadata": {},
     "output_type": "execute_result"
    }
   ],
   "source": [
    "# Output :-"
   ]
  },
  {
   "cell_type": "markdown",
   "id": "5ecb3ea4",
   "metadata": {},
   "source": [
    "# 2 Data Cleaning"
   ]
  },
  {
   "cell_type": "markdown",
   "id": "4dc689fc",
   "metadata": {},
   "source": [
    "### 2.1 Drop the missing data from Current ver and Android Ver\n",
    "\n",
    "- If you want to impute them, it is ok."
   ]
  },
  {
   "cell_type": "code",
   "execution_count": 41,
   "id": "e4c5a136",
   "metadata": {},
   "outputs": [
    {
     "data": {
      "text/plain": [
       "App                  0\n",
       "Category             0\n",
       "Rating            1459\n",
       "Reviews              0\n",
       "Size              1227\n",
       "Installs             0\n",
       "Type                 0\n",
       "Price                0\n",
       "Content Rating       0\n",
       "Genres               0\n",
       "Last Updated         0\n",
       "Current Ver          0\n",
       "Android Ver          0\n",
       "dtype: int64"
      ]
     },
     "execution_count": 41,
     "metadata": {},
     "output_type": "execute_result"
    }
   ],
   "source": [
    "# Write your code here\n",
    "apps = apps.dropna(subset=[\"Current Ver\",\"Android Ver\"],axis = 0)\n",
    "apps.isnull().sum()"
   ]
  },
  {
   "cell_type": "code",
   "execution_count": 9,
   "id": "3f63f201",
   "metadata": {},
   "outputs": [
    {
     "data": {
      "text/plain": [
       "App                  0\n",
       "Category             0\n",
       "Rating            1459\n",
       "Reviews              0\n",
       "Size              1227\n",
       "Installs             0\n",
       "Type                 0\n",
       "Price                0\n",
       "Content Rating       0\n",
       "Genres               0\n",
       "Last Updated         0\n",
       "Current Ver          0\n",
       "Android Ver          0\n",
       "dtype: int64"
      ]
     },
     "execution_count": 9,
     "metadata": {},
     "output_type": "execute_result"
    }
   ],
   "source": [
    "# Output :-"
   ]
  },
  {
   "cell_type": "markdown",
   "id": "ce23f7d8",
   "metadata": {},
   "source": [
    "### 2.2 Handle the missing data from Size\n",
    "\n",
    "- First Check the distribution of the size variable using matplotlib.\n",
    "- Second choose the best method to impute the data.\n",
    "- Lastly, Check the distribution again."
   ]
  },
  {
   "cell_type": "code",
   "execution_count": 42,
   "id": "a8933cb0",
   "metadata": {},
   "outputs": [
    {
     "name": "stderr",
     "output_type": "stream",
     "text": [
      "C:\\Users\\محمد الزيداني\\AppData\\Local\\Temp\\ipykernel_24156\\1472092770.py:4: SettingWithCopyWarning: \n",
      "A value is trying to be set on a copy of a slice from a DataFrame\n",
      "\n",
      "See the caveats in the documentation: https://pandas.pydata.org/pandas-docs/stable/user_guide/indexing.html#returning-a-view-versus-a-copy\n",
      "  apps[\"Size\"].fillna(apps[\"Size\"].mean(),axis = 0,inplace=True)\n"
     ]
    },
    {
     "data": {
      "text/plain": [
       "(array([3785., 1548., 2332.,  621.,  451.,  281.,  207.,  140.,  114.,\n",
       "         170.]),\n",
       " array([  0.,  10.,  20.,  30.,  40.,  50.,  60.,  70.,  80.,  90., 100.]),\n",
       " <BarContainer object of 10 artists>)"
      ]
     },
     "execution_count": 42,
     "metadata": {},
     "output_type": "execute_result"
    },
    {
     "data": {
      "image/png": "[encoded data removed]",
      "text/plain": [
       "<Figure size 640x480 with 1 Axes>"
      ]
     },
     "metadata": {},
     "output_type": "display_data"
    }
   ],
   "source": [
    "# Write your code here\n",
    "plt.hist(apps[\"Size\"],\n",
    "        )\n",
    "apps[\"Size\"].fillna(apps[\"Size\"].mean(),axis = 0,inplace=True)\n",
    "plt.hist(apps[\"Size\"],\n",
    "        )"
   ]
  },
  {
   "cell_type": "code",
   "execution_count": 10,
   "id": "43153b9f",
   "metadata": {
    "scrolled": true
   },
   "outputs": [
    {
     "data": {
      "text/plain": [
       "App                  0\n",
       "Category             0\n",
       "Rating            1459\n",
       "Reviews              0\n",
       "Size                 0\n",
       "Installs             0\n",
       "Type                 0\n",
       "Price                0\n",
       "Content Rating       0\n",
       "Genres               0\n",
       "Last Updated         0\n",
       "Current Ver          0\n",
       "Android Ver          0\n",
       "dtype: int64"
      ]
     },
     "execution_count": 10,
     "metadata": {},
     "output_type": "execute_result"
    }
   ],
   "source": [
    "# Output :-"
   ]
  },
  {
   "cell_type": "markdown",
   "id": "a806d447",
   "metadata": {},
   "source": [
    "### 2.3 Handle the missing data from Rating\n",
    "\n",
    "- Because it is a rating feature, there are a lot of methods we can do to impute this feature, such as using another data that contains the reviews (every rating for each app) then analyze the sentiment using NLP, or do another methods (you can search for this situation).\n",
    "- But, now choose the suitable method for imputation that is easy and good."
   ]
  },
  {
   "cell_type": "code",
   "execution_count": 43,
   "id": "38a1cdd6",
   "metadata": {},
   "outputs": [
    {
     "name": "stderr",
     "output_type": "stream",
     "text": [
      "C:\\Users\\محمد الزيداني\\AppData\\Local\\Temp\\ipykernel_24156\\3869455174.py:2: SettingWithCopyWarning: \n",
      "A value is trying to be set on a copy of a slice from a DataFrame\n",
      "\n",
      "See the caveats in the documentation: https://pandas.pydata.org/pandas-docs/stable/user_guide/indexing.html#returning-a-view-versus-a-copy\n",
      "  apps[\"Rating\"].fillna(apps[\"Rating\"].mean(),axis = 0,inplace=True)\n"
     ]
    },
    {
     "data": {
      "text/html": [
       "<div>\n",
       "<style scoped>\n",
       "    .dataframe tbody tr th:only-of-type {\n",
       "        vertical-align: middle;\n",
       "    }\n",
       "\n",
       "    .dataframe tbody tr th {\n",
       "        vertical-align: top;\n",
       "    }\n",
       "\n",
       "    .dataframe thead th {\n",
       "        text-align: right;\n",
       "    }\n",
       "</style>\n",
       "<table border=\"1\" class=\"dataframe\">\n",
       "  <thead>\n",
       "    <tr style=\"text-align: right;\">\n",
       "      <th></th>\n",
       "      <th>App</th>\n",
       "      <th>Category</th>\n",
       "      <th>Rating</th>\n",
       "      <th>Reviews</th>\n",
       "      <th>Size</th>\n",
       "      <th>Installs</th>\n",
       "      <th>Type</th>\n",
       "      <th>Price</th>\n",
       "      <th>Content Rating</th>\n",
       "      <th>Genres</th>\n",
       "      <th>Last Updated</th>\n",
       "      <th>Current Ver</th>\n",
       "      <th>Android Ver</th>\n",
       "    </tr>\n",
       "  </thead>\n",
       "  <tbody>\n",
       "    <tr>\n",
       "      <th>0</th>\n",
       "      <td>Photo Editor &amp; Candy Camera &amp; Grid &amp; ScrapBook</td>\n",
       "      <td>ART_AND_DESIGN</td>\n",
       "      <td>4.100000</td>\n",
       "      <td>159</td>\n",
       "      <td>19.000000</td>\n",
       "      <td>10,000+</td>\n",
       "      <td>Free</td>\n",
       "      <td>0</td>\n",
       "      <td>Everyone</td>\n",
       "      <td>Art &amp; Design</td>\n",
       "      <td>January 7, 2018</td>\n",
       "      <td>1.0.0</td>\n",
       "      <td>4.0.3 and up</td>\n",
       "    </tr>\n",
       "    <tr>\n",
       "      <th>1</th>\n",
       "      <td>Coloring book moana</td>\n",
       "      <td>ART_AND_DESIGN</td>\n",
       "      <td>3.900000</td>\n",
       "      <td>967</td>\n",
       "      <td>14.000000</td>\n",
       "      <td>500,000+</td>\n",
       "      <td>Free</td>\n",
       "      <td>0</td>\n",
       "      <td>Everyone</td>\n",
       "      <td>Art &amp; Design;Pretend Play</td>\n",
       "      <td>January 15, 2018</td>\n",
       "      <td>2.0.0</td>\n",
       "      <td>4.0.3 and up</td>\n",
       "    </tr>\n",
       "    <tr>\n",
       "      <th>2</th>\n",
       "      <td>U Launcher Lite – FREE Live Cool Themes, Hide ...</td>\n",
       "      <td>ART_AND_DESIGN</td>\n",
       "      <td>4.700000</td>\n",
       "      <td>87510</td>\n",
       "      <td>8.700000</td>\n",
       "      <td>5,000,000+</td>\n",
       "      <td>Free</td>\n",
       "      <td>0</td>\n",
       "      <td>Everyone</td>\n",
       "      <td>Art &amp; Design</td>\n",
       "      <td>August 1, 2018</td>\n",
       "      <td>1.2.4</td>\n",
       "      <td>4.0.3 and up</td>\n",
       "    </tr>\n",
       "    <tr>\n",
       "      <th>3</th>\n",
       "      <td>Sketch - Draw &amp; Paint</td>\n",
       "      <td>ART_AND_DESIGN</td>\n",
       "      <td>4.500000</td>\n",
       "      <td>215644</td>\n",
       "      <td>25.000000</td>\n",
       "      <td>50,000,000+</td>\n",
       "      <td>Free</td>\n",
       "      <td>0</td>\n",
       "      <td>Teen</td>\n",
       "      <td>Art &amp; Design</td>\n",
       "      <td>June 8, 2018</td>\n",
       "      <td>Varies with device</td>\n",
       "      <td>4.2 and up</td>\n",
       "    </tr>\n",
       "    <tr>\n",
       "      <th>4</th>\n",
       "      <td>Pixel Draw - Number Art Coloring Book</td>\n",
       "      <td>ART_AND_DESIGN</td>\n",
       "      <td>4.300000</td>\n",
       "      <td>967</td>\n",
       "      <td>2.800000</td>\n",
       "      <td>100,000+</td>\n",
       "      <td>Free</td>\n",
       "      <td>0</td>\n",
       "      <td>Everyone</td>\n",
       "      <td>Art &amp; Design;Creativity</td>\n",
       "      <td>June 20, 2018</td>\n",
       "      <td>1.1</td>\n",
       "      <td>4.4 and up</td>\n",
       "    </tr>\n",
       "    <tr>\n",
       "      <th>...</th>\n",
       "      <td>...</td>\n",
       "      <td>...</td>\n",
       "      <td>...</td>\n",
       "      <td>...</td>\n",
       "      <td>...</td>\n",
       "      <td>...</td>\n",
       "      <td>...</td>\n",
       "      <td>...</td>\n",
       "      <td>...</td>\n",
       "      <td>...</td>\n",
       "      <td>...</td>\n",
       "      <td>...</td>\n",
       "      <td>...</td>\n",
       "    </tr>\n",
       "    <tr>\n",
       "      <th>9654</th>\n",
       "      <td>Sya9a Maroc - FR</td>\n",
       "      <td>FAMILY</td>\n",
       "      <td>4.500000</td>\n",
       "      <td>38</td>\n",
       "      <td>53.000000</td>\n",
       "      <td>5,000+</td>\n",
       "      <td>Free</td>\n",
       "      <td>0</td>\n",
       "      <td>Everyone</td>\n",
       "      <td>Education</td>\n",
       "      <td>July 25, 2017</td>\n",
       "      <td>1.48</td>\n",
       "      <td>4.1 and up</td>\n",
       "    </tr>\n",
       "    <tr>\n",
       "      <th>9655</th>\n",
       "      <td>Fr. Mike Schmitz Audio Teachings</td>\n",
       "      <td>FAMILY</td>\n",
       "      <td>5.000000</td>\n",
       "      <td>4</td>\n",
       "      <td>3.600000</td>\n",
       "      <td>100+</td>\n",
       "      <td>Free</td>\n",
       "      <td>0</td>\n",
       "      <td>Everyone</td>\n",
       "      <td>Education</td>\n",
       "      <td>July 6, 2018</td>\n",
       "      <td>1</td>\n",
       "      <td>4.1 and up</td>\n",
       "    </tr>\n",
       "    <tr>\n",
       "      <th>9656</th>\n",
       "      <td>Parkinson Exercices FR</td>\n",
       "      <td>MEDICAL</td>\n",
       "      <td>4.173321</td>\n",
       "      <td>3</td>\n",
       "      <td>9.500000</td>\n",
       "      <td>1,000+</td>\n",
       "      <td>Free</td>\n",
       "      <td>0</td>\n",
       "      <td>Everyone</td>\n",
       "      <td>Medical</td>\n",
       "      <td>January 20, 2017</td>\n",
       "      <td>1</td>\n",
       "      <td>2.2 and up</td>\n",
       "    </tr>\n",
       "    <tr>\n",
       "      <th>9657</th>\n",
       "      <td>The SCP Foundation DB fr nn5n</td>\n",
       "      <td>BOOKS_AND_REFERENCE</td>\n",
       "      <td>4.500000</td>\n",
       "      <td>114</td>\n",
       "      <td>20.413987</td>\n",
       "      <td>1,000+</td>\n",
       "      <td>Free</td>\n",
       "      <td>0</td>\n",
       "      <td>Mature 17+</td>\n",
       "      <td>Books &amp; Reference</td>\n",
       "      <td>January 19, 2015</td>\n",
       "      <td>Varies with device</td>\n",
       "      <td>Varies with device</td>\n",
       "    </tr>\n",
       "    <tr>\n",
       "      <th>9658</th>\n",
       "      <td>iHoroscope - 2018 Daily Horoscope &amp; Astrology</td>\n",
       "      <td>LIFESTYLE</td>\n",
       "      <td>4.500000</td>\n",
       "      <td>398307</td>\n",
       "      <td>19.000000</td>\n",
       "      <td>10,000,000+</td>\n",
       "      <td>Free</td>\n",
       "      <td>0</td>\n",
       "      <td>Everyone</td>\n",
       "      <td>Lifestyle</td>\n",
       "      <td>July 25, 2018</td>\n",
       "      <td>Varies with device</td>\n",
       "      <td>Varies with device</td>\n",
       "    </tr>\n",
       "  </tbody>\n",
       "</table>\n",
       "<p>9649 rows × 13 columns</p>\n",
       "</div>"
      ],
      "text/plain": [
       "                                                    App             Category  \\\n",
       "0        Photo Editor & Candy Camera & Grid & ScrapBook       ART_AND_DESIGN   \n",
       "1                                   Coloring book moana       ART_AND_DESIGN   \n",
       "2     U Launcher Lite – FREE Live Cool Themes, Hide ...       ART_AND_DESIGN   \n",
       "3                                 Sketch - Draw & Paint       ART_AND_DESIGN   \n",
       "4                 Pixel Draw - Number Art Coloring Book       ART_AND_DESIGN   \n",
       "...                                                 ...                  ...   \n",
       "9654                                   Sya9a Maroc - FR               FAMILY   \n",
       "9655                   Fr. Mike Schmitz Audio Teachings               FAMILY   \n",
       "9656                             Parkinson Exercices FR              MEDICAL   \n",
       "9657                      The SCP Foundation DB fr nn5n  BOOKS_AND_REFERENCE   \n",
       "9658      iHoroscope - 2018 Daily Horoscope & Astrology            LIFESTYLE   \n",
       "\n",
       "        Rating  Reviews       Size     Installs  Type Price Content Rating  \\\n",
       "0     4.100000      159  19.000000      10,000+  Free     0       Everyone   \n",
       "1     3.900000      967  14.000000     500,000+  Free     0       Everyone   \n",
       "2     4.700000    87510   8.700000   5,000,000+  Free     0       Everyone   \n",
       "3     4.500000   215644  25.000000  50,000,000+  Free     0           Teen   \n",
       "4     4.300000      967   2.800000     100,000+  Free     0       Everyone   \n",
       "...        ...      ...        ...          ...   ...   ...            ...   \n",
       "9654  4.500000       38  53.000000       5,000+  Free     0       Everyone   \n",
       "9655  5.000000        4   3.600000         100+  Free     0       Everyone   \n",
       "9656  4.173321        3   9.500000       1,000+  Free     0       Everyone   \n",
       "9657  4.500000      114  20.413987       1,000+  Free     0     Mature 17+   \n",
       "9658  4.500000   398307  19.000000  10,000,000+  Free     0       Everyone   \n",
       "\n",
       "                         Genres      Last Updated         Current Ver  \\\n",
       "0                  Art & Design   January 7, 2018               1.0.0   \n",
       "1     Art & Design;Pretend Play  January 15, 2018               2.0.0   \n",
       "2                  Art & Design    August 1, 2018               1.2.4   \n",
       "3                  Art & Design      June 8, 2018  Varies with device   \n",
       "4       Art & Design;Creativity     June 20, 2018                 1.1   \n",
       "...                         ...               ...                 ...   \n",
       "9654                  Education     July 25, 2017                1.48   \n",
       "9655                  Education      July 6, 2018                   1   \n",
       "9656                    Medical  January 20, 2017                   1   \n",
       "9657          Books & Reference  January 19, 2015  Varies with device   \n",
       "9658                  Lifestyle     July 25, 2018  Varies with device   \n",
       "\n",
       "             Android Ver  \n",
       "0           4.0.3 and up  \n",
       "1           4.0.3 and up  \n",
       "2           4.0.3 and up  \n",
       "3             4.2 and up  \n",
       "4             4.4 and up  \n",
       "...                  ...  \n",
       "9654          4.1 and up  \n",
       "9655          4.1 and up  \n",
       "9656          2.2 and up  \n",
       "9657  Varies with device  \n",
       "9658  Varies with device  \n",
       "\n",
       "[9649 rows x 13 columns]"
      ]
     },
     "execution_count": 43,
     "metadata": {},
     "output_type": "execute_result"
    }
   ],
   "source": [
    "# Write your code here\n",
    "apps[\"Rating\"].fillna(apps[\"Rating\"].mean(),axis = 0,inplace=True)\n",
    "apps"
   ]
  },
  {
   "cell_type": "code",
   "execution_count": 11,
   "id": "2ad1234a",
   "metadata": {},
   "outputs": [
    {
     "data": {
      "text/plain": [
       "App               0\n",
       "Category          0\n",
       "Rating            0\n",
       "Reviews           0\n",
       "Size              0\n",
       "Installs          0\n",
       "Type              0\n",
       "Price             0\n",
       "Content Rating    0\n",
       "Genres            0\n",
       "Last Updated      0\n",
       "Current Ver       0\n",
       "Android Ver       0\n",
       "dtype: int64"
      ]
     },
     "execution_count": 11,
     "metadata": {},
     "output_type": "execute_result"
    }
   ],
   "source": [
    "# Output :-"
   ]
  },
  {
   "cell_type": "markdown",
   "id": "cdaedae8",
   "metadata": {},
   "source": [
    "### 2.4 Check the values of both Installs and Price columns\n",
    "\n",
    "- What did you notice??\n",
    "- List three notifications for both columns (maybe shared notifications)."
   ]
  },
  {
   "cell_type": "code",
   "execution_count": 45,
   "id": "b8a83900",
   "metadata": {},
   "outputs": [
    {
     "data": {
      "text/plain": [
       "Price\n",
       "0          8896\n",
       "$0.99       143\n",
       "$2.99       124\n",
       "$1.99        73\n",
       "$4.99        70\n",
       "           ... \n",
       "$18.99        1\n",
       "$389.99       1\n",
       "$19.90        1\n",
       "$1.75         1\n",
       "$1.04         1\n",
       "Name: count, Length: 92, dtype: int64"
      ]
     },
     "execution_count": 45,
     "metadata": {},
     "output_type": "execute_result"
    }
   ],
   "source": [
    "# Write your code here\n",
    "apps[\"Price\"].value_counts()"
   ]
  },
  {
   "cell_type": "code",
   "execution_count": 46,
   "id": "b683cd16-17e0-431e-be66-f4f215958b7a",
   "metadata": {},
   "outputs": [
    {
     "data": {
      "text/plain": [
       "Installs\n",
       "1,000,000+        1416\n",
       "100,000+          1112\n",
       "10,000+           1029\n",
       "10,000,000+        937\n",
       "1,000+             886\n",
       "100+               709\n",
       "5,000,000+         607\n",
       "500,000+           504\n",
       "50,000+            468\n",
       "5,000+             467\n",
       "10+                384\n",
       "500+               328\n",
       "50+                204\n",
       "50,000,000+        202\n",
       "100,000,000+       188\n",
       "5+                  82\n",
       "1+                  67\n",
       "500,000,000+        24\n",
       "1,000,000,000+      20\n",
       "0+                  14\n",
       "0                    1\n",
       "Name: count, dtype: int64"
      ]
     },
     "execution_count": 46,
     "metadata": {},
     "output_type": "execute_result"
    }
   ],
   "source": [
    "apps[\"Installs\"].value_counts()"
   ]
  },
  {
   "cell_type": "code",
   "execution_count": 12,
   "id": "d01daf4e",
   "metadata": {},
   "outputs": [
    {
     "data": {
      "text/plain": [
       "1,000,000+        1416\n",
       "100,000+          1112\n",
       "10,000+           1029\n",
       "10,000,000+        937\n",
       "1,000+             886\n",
       "100+               709\n",
       "5,000,000+         607\n",
       "500,000+           504\n",
       "50,000+            468\n",
       "5,000+             467\n",
       "10+                384\n",
       "500+               328\n",
       "50+                204\n",
       "50,000,000+        202\n",
       "100,000,000+       188\n",
       "5+                  82\n",
       "1+                  67\n",
       "500,000,000+        24\n",
       "1,000,000,000+      20\n",
       "0+                  14\n",
       "0                    1\n",
       "Name: Installs, dtype: int64"
      ]
     },
     "execution_count": 12,
     "metadata": {},
     "output_type": "execute_result"
    }
   ],
   "source": [
    "# Output :-"
   ]
  },
  {
   "cell_type": "code",
   "execution_count": null,
   "id": "d52b1769",
   "metadata": {},
   "outputs": [],
   "source": [
    "# Write your code here"
   ]
  },
  {
   "cell_type": "code",
   "execution_count": 13,
   "id": "57c09486",
   "metadata": {},
   "outputs": [
    {
     "data": {
      "text/plain": [
       "0          8896\n",
       "$0.99       143\n",
       "$2.99       124\n",
       "$1.99        73\n",
       "$4.99        70\n",
       "           ... \n",
       "$18.99        1\n",
       "$389.99       1\n",
       "$19.90        1\n",
       "$1.75         1\n",
       "$1.04         1\n",
       "Name: Price, Length: 92, dtype: int64"
      ]
     },
     "execution_count": 13,
     "metadata": {},
     "output_type": "execute_result"
    }
   ],
   "source": [
    "# Output :-"
   ]
  },
  {
   "cell_type": "markdown",
   "id": "520f025c",
   "metadata": {},
   "source": [
    "### 2.5 Check the values for each of the object data type column\n",
    "\n",
    "- Do not check the Installs and Price columns, we have did this before.\n",
    "- Make a list that contains the columns that are good to stay as an object.\n",
    "- Make a list that contains list the columns that are need to convert to categorical.\n",
    "- Make a list that contains list the columns that are need to convert to Integers.\n",
    "- Make a list that contains list the columns that are need to convert to Date."
   ]
  },
  {
   "cell_type": "code",
   "execution_count": 48,
   "id": "cdf157e5",
   "metadata": {},
   "outputs": [],
   "source": [
    "# Write your code here\n",
    "apps.dtypes\n",
    "intlst=[\"Rating\",\"Installs\",]\n",
    "floatlst=[\"Current Ver\",\"Android Ver\"]\n",
    "datelst=[\"Last Updated\"]"
   ]
  },
  {
   "cell_type": "markdown",
   "id": "681e2f07",
   "metadata": {},
   "source": [
    "### 2.6 Clean the Installs and Price columns\n",
    "\n",
    "- Remove unwanted characters."
   ]
  },
  {
   "cell_type": "code",
   "execution_count": 49,
   "id": "a932591f",
   "metadata": {},
   "outputs": [
    {
     "name": "stderr",
     "output_type": "stream",
     "text": [
      "C:\\Users\\محمد الزيداني\\AppData\\Local\\Temp\\ipykernel_24156\\2215548351.py:2: SettingWithCopyWarning: \n",
      "A value is trying to be set on a copy of a slice from a DataFrame.\n",
      "Try using .loc[row_indexer,col_indexer] = value instead\n",
      "\n",
      "See the caveats in the documentation: https://pandas.pydata.org/pandas-docs/stable/user_guide/indexing.html#returning-a-view-versus-a-copy\n",
      "  apps['Installs'] = apps['Installs'].str.replace('[+,]', '',regex=True)\n"
     ]
    },
    {
     "data": {
      "text/plain": [
       "Installs\n",
       "1000000       1416\n",
       "100000        1112\n",
       "10000         1029\n",
       "10000000       937\n",
       "1000           886\n",
       "100            709\n",
       "5000000        607\n",
       "500000         504\n",
       "50000          468\n",
       "5000           467\n",
       "10             384\n",
       "500            328\n",
       "50             204\n",
       "50000000       202\n",
       "100000000      188\n",
       "5               82\n",
       "1               67\n",
       "500000000       24\n",
       "1000000000      20\n",
       "0               15\n",
       "Name: count, dtype: int64"
      ]
     },
     "execution_count": 49,
     "metadata": {},
     "output_type": "execute_result"
    }
   ],
   "source": [
    "# Write your code here\n",
    "apps['Installs'] = apps['Installs'].str.replace('[+,]', '',regex=True)\n",
    "apps['Installs'].value_counts()"
   ]
  },
  {
   "cell_type": "code",
   "execution_count": 16,
   "id": "b156dba6",
   "metadata": {},
   "outputs": [
    {
     "data": {
      "text/plain": [
       "1000000       1416\n",
       "100000        1112\n",
       "10000         1029\n",
       "10000000       937\n",
       "1000           886\n",
       "100            709\n",
       "5000000        607\n",
       "500000         504\n",
       "50000          468\n",
       "5000           467\n",
       "10             384\n",
       "500            328\n",
       "50             204\n",
       "50000000       202\n",
       "100000000      188\n",
       "5               82\n",
       "1               67\n",
       "500000000       24\n",
       "1000000000      20\n",
       "0               15\n",
       "Name: Installs, dtype: int64"
      ]
     },
     "execution_count": 16,
     "metadata": {},
     "output_type": "execute_result"
    }
   ],
   "source": [
    "# Output :-"
   ]
  },
  {
   "cell_type": "code",
   "execution_count": 50,
   "id": "e590f5f5",
   "metadata": {},
   "outputs": [
    {
     "name": "stderr",
     "output_type": "stream",
     "text": [
      "C:\\Users\\محمد الزيداني\\AppData\\Local\\Temp\\ipykernel_24156\\1976589591.py:2: SettingWithCopyWarning: \n",
      "A value is trying to be set on a copy of a slice from a DataFrame.\n",
      "Try using .loc[row_indexer,col_indexer] = value instead\n",
      "\n",
      "See the caveats in the documentation: https://pandas.pydata.org/pandas-docs/stable/user_guide/indexing.html#returning-a-view-versus-a-copy\n",
      "  apps['Price']= apps['Price'].str.replace('[$.]', '', regex=True)\n"
     ]
    },
    {
     "data": {
      "text/plain": [
       "Price\n",
       "0        8896\n",
       "099       143\n",
       "299       124\n",
       "199        73\n",
       "499        70\n",
       "         ... \n",
       "1899        1\n",
       "38999       1\n",
       "1990        1\n",
       "175         1\n",
       "104         1\n",
       "Name: count, Length: 92, dtype: int64"
      ]
     },
     "execution_count": 50,
     "metadata": {},
     "output_type": "execute_result"
    }
   ],
   "source": [
    "# Write your code here\n",
    "apps['Price']= apps['Price'].str.replace('[$.]', '', regex=True)\n",
    "apps['Price'].value_counts()"
   ]
  },
  {
   "cell_type": "code",
   "execution_count": 17,
   "id": "b9b25116",
   "metadata": {},
   "outputs": [
    {
     "data": {
      "text/plain": [
       "0         8896\n",
       "0.99       143\n",
       "2.99       124\n",
       "1.99        73\n",
       "4.99        70\n",
       "          ... \n",
       "18.99        1\n",
       "389.99       1\n",
       "19.90        1\n",
       "1.75         1\n",
       "1.04         1\n",
       "Name: Price, Length: 92, dtype: int64"
      ]
     },
     "execution_count": 17,
     "metadata": {},
     "output_type": "execute_result"
    }
   ],
   "source": [
    "# Output :-"
   ]
  },
  {
   "cell_type": "markdown",
   "id": "a0fee16e",
   "metadata": {},
   "source": [
    "### 2.7 Convert the data type of each object data type columns\n",
    "\n",
    "- That is including Installs and Price columns.\n",
    "- Build a function that receives 3 parameters\n",
    "    1. List of columns you want to convert.\n",
    "    2. Dataset which in our case the android apps.\n",
    "    3. Data type that you want to convert to.\n",
    "- In the function, loop through each column from the list.\n",
    "- Use df[col].astype(data_type) function to convert the columns.\n",
    "- Note : The list of date columns need not included in this step."
   ]
  },
  {
   "cell_type": "code",
   "execution_count": 18,
   "id": "0c32f211",
   "metadata": {},
   "outputs": [],
   "source": [
    "def convert_col_data_type(lst_of_cols, dataset, data_type):\n",
    "    # Write your code here"
   ]
  },
  {
   "cell_type": "markdown",
   "id": "07f958a0",
   "metadata": {},
   "source": [
    "### 2.8 Convert the list of date columns into a suitable format.\n",
    "\n",
    "- Use pd.to_datetime(df[col]) function."
   ]
  },
  {
   "cell_type": "code",
   "execution_count": 19,
   "id": "c8f1f9ad",
   "metadata": {},
   "outputs": [],
   "source": [
    "# Write your code here"
   ]
  },
  {
   "cell_type": "code",
   "execution_count": 20,
   "id": "f8acbe01",
   "metadata": {},
   "outputs": [
    {
     "name": "stdout",
     "output_type": "stream",
     "text": [
      "<class 'pandas.core.frame.DataFrame'>\n",
      "Int64Index: 9649 entries, 0 to 9658\n",
      "Data columns (total 13 columns):\n",
      " #   Column          Non-Null Count  Dtype         \n",
      "---  ------          --------------  -----         \n",
      " 0   App             9649 non-null   object        \n",
      " 1   Category        9649 non-null   category      \n",
      " 2   Rating          9649 non-null   float64       \n",
      " 3   Reviews         9649 non-null   int64         \n",
      " 4   Size            9649 non-null   float64       \n",
      " 5   Installs        9649 non-null   int64         \n",
      " 6   Type            9649 non-null   object        \n",
      " 7   Price           9649 non-null   float64       \n",
      " 8   Content Rating  9649 non-null   category      \n",
      " 9   Genres          9649 non-null   category      \n",
      " 10  Last Updated    9649 non-null   datetime64[ns]\n",
      " 11  Current Ver     9649 non-null   object        \n",
      " 12  Android Ver     9649 non-null   object        \n",
      "dtypes: category(3), datetime64[ns](1), float64(3), int64(2), object(4)\n",
      "memory usage: 864.0+ KB\n"
     ]
    }
   ],
   "source": [
    "# Output :-"
   ]
  },
  {
   "cell_type": "markdown",
   "id": "8c28991c",
   "metadata": {},
   "source": [
    "# 3 Data Visualization"
   ]
  },
  {
   "cell_type": "markdown",
   "id": "45ec0834",
   "metadata": {},
   "source": [
    "### 3.1 Plot the distribution for each categories using Bar Chart.\n",
    "\n",
    "- The figure size is 16 by 8.\n",
    "- Set the title, x label, and y label.\n",
    "- Make sure that the names of the categories not overlapped (use xtricks method with some rotation value)."
   ]
  },
  {
   "cell_type": "code",
   "execution_count": null,
   "id": "b258d4f9",
   "metadata": {},
   "outputs": [],
   "source": [
    "# Write your code here"
   ]
  },
  {
   "cell_type": "code",
   "execution_count": 21,
   "id": "8df339d7",
   "metadata": {},
   "outputs": [
    {
     "data": {
      "image/png": "[encoded data removed]",
      "text/plain": [
       "<Figure size 1152x576 with 1 Axes>"
      ]
     },
     "metadata": {
      "needs_background": "light"
     },
     "output_type": "display_data"
    }
   ],
   "source": [
    "# Output :-"
   ]
  },
  {
   "cell_type": "markdown",
   "id": "e46e961f",
   "metadata": {},
   "source": [
    "### 3.2 What are the categories has the heighest share of active apps?\n",
    "\n",
    "- Use Bar Chart.\n",
    "- Visualize the best 5 categories."
   ]
  },
  {
   "cell_type": "code",
   "execution_count": null,
   "id": "6df32f01",
   "metadata": {},
   "outputs": [],
   "source": [
    "# Write your code here"
   ]
  },
  {
   "cell_type": "code",
   "execution_count": 22,
   "id": "11a5129f",
   "metadata": {},
   "outputs": [
    {
     "name": "stdout",
     "output_type": "stream",
     "text": [
      "Number of categories =  33\n"
     ]
    }
   ],
   "source": [
    "# Output :-"
   ]
  },
  {
   "cell_type": "code",
   "execution_count": null,
   "id": "4dc36f64",
   "metadata": {},
   "outputs": [],
   "source": [
    "# Write your code here"
   ]
  },
  {
   "cell_type": "code",
   "execution_count": 23,
   "id": "805efc53",
   "metadata": {},
   "outputs": [
    {
     "data": {
      "image/png": "[encoded data removed]",
      "text/plain": [
       "<Figure size 864x576 with 1 Axes>"
      ]
     },
     "metadata": {
      "needs_background": "light"
     },
     "output_type": "display_data"
    }
   ],
   "source": [
    "# Output :-"
   ]
  },
  {
   "cell_type": "markdown",
   "id": "908a928e",
   "metadata": {},
   "source": [
    "### 3.3 What are the categories has the lowest share of active apps?\n",
    "\n",
    "- Use Bar Chart.\n",
    "- Visualize the lowest 5 apps."
   ]
  },
  {
   "cell_type": "code",
   "execution_count": null,
   "id": "f3b848cf",
   "metadata": {},
   "outputs": [],
   "source": [
    "# Write your code here"
   ]
  },
  {
   "cell_type": "code",
   "execution_count": 24,
   "id": "6f761182",
   "metadata": {},
   "outputs": [
    {
     "data": {
      "image/png": "[encoded data removed]",
      "text/plain": [
       "<Figure size 864x576 with 1 Axes>"
      ]
     },
     "metadata": {
      "needs_background": "light"
     },
     "output_type": "display_data"
    }
   ],
   "source": [
    "# Output :-"
   ]
  },
  {
   "cell_type": "markdown",
   "id": "3d610ef2",
   "metadata": {},
   "source": [
    "### 3.4 How does the app average rating vary across different categories?\n",
    "\n",
    "- The figure size is 12 by 12.\n",
    "- Use Horizontal Bar Chart.\n",
    "- Set the title, x label, and y label."
   ]
  },
  {
   "cell_type": "code",
   "execution_count": null,
   "id": "13766de4",
   "metadata": {},
   "outputs": [],
   "source": [
    "# Write your code here"
   ]
  },
  {
   "cell_type": "code",
   "execution_count": 25,
   "id": "7370eac5",
   "metadata": {},
   "outputs": [
    {
     "data": {
      "image/png": "[encoded data removed]",
      "text/plain": [
       "<Figure size 864x864 with 1 Axes>"
      ]
     },
     "metadata": {
      "needs_background": "light"
     },
     "output_type": "display_data"
    }
   ],
   "source": [
    "# Output :-"
   ]
  },
  {
   "cell_type": "markdown",
   "id": "4b247af5",
   "metadata": {},
   "source": [
    "### 3.5 Plot the Average app size for each content rating distribution\n",
    "\n",
    "- You need to use group by.\n",
    "- Use Bar Plot.\n",
    "- Set the width as 0.35.\n",
    "- Label = 'Average size\".\n",
    "- Show the legend.\n",
    "- Set the title, x label, and y label."
   ]
  },
  {
   "cell_type": "code",
   "execution_count": null,
   "id": "fb892310",
   "metadata": {},
   "outputs": [],
   "source": [
    "# Write your code here"
   ]
  },
  {
   "cell_type": "code",
   "execution_count": 26,
   "id": "ca9e70f9",
   "metadata": {},
   "outputs": [
    {
     "data": {
      "image/png": "[encoded data removed]",
      "text/plain": [
       "<Figure size 720x432 with 1 Axes>"
      ]
     },
     "metadata": {
      "needs_background": "light"
     },
     "output_type": "display_data"
    }
   ],
   "source": [
    "# Output :-"
   ]
  },
  {
   "cell_type": "markdown",
   "id": "55365ba4",
   "metadata": {},
   "source": [
    "### 3.6 Common content ratings for different categories using a stacked bar chart."
   ]
  },
  {
   "cell_type": "code",
   "execution_count": null,
   "id": "a1f7e7a8",
   "metadata": {},
   "outputs": [],
   "source": [
    "# Write your code here"
   ]
  },
  {
   "cell_type": "code",
   "execution_count": 27,
   "id": "1d3ce20f",
   "metadata": {},
   "outputs": [
    {
     "data": {
      "image/png": "[encoded data removed]",
      "text/plain": [
       "<Figure size 864x432 with 1 Axes>"
      ]
     },
     "metadata": {
      "needs_background": "light"
     },
     "output_type": "display_data"
    }
   ],
   "source": [
    "# Output :-"
   ]
  },
  {
   "cell_type": "markdown",
   "id": "07f42a9b",
   "metadata": {},
   "source": [
    "### 3.7 Use area plot to show the change in total reviews over the years.\n",
    "\n",
    "- Extract the year from your date column as new column \"Year\".\n",
    "- Use group by function.\n",
    "- The figure size is 10 by 6.\n",
    "- The color of the plot is \"skyblue\".\n",
    "- The alpha is 0.4.\n",
    "- Set the title, x label, and y label."
   ]
  },
  {
   "cell_type": "code",
   "execution_count": null,
   "id": "29156290",
   "metadata": {},
   "outputs": [],
   "source": [
    "# Write your code here"
   ]
  },
  {
   "cell_type": "code",
   "execution_count": 29,
   "id": "aa3b2333",
   "metadata": {},
   "outputs": [
    {
     "data": {
      "image/png": "[encoded data removed]",
      "text/plain": [
       "<Figure size 720x432 with 1 Axes>"
      ]
     },
     "metadata": {
      "needs_background": "light"
     },
     "output_type": "display_data"
    }
   ],
   "source": [
    "# Output :-"
   ]
  },
  {
   "cell_type": "markdown",
   "id": "3d2b2dff",
   "metadata": {},
   "source": [
    "### 3.8 Use line plot to show the total Installs over the years.\n",
    "\n",
    "- Use the same extracted year column.\n",
    "- Use group by function.\n",
    "- The figure size is 10 by 6.\n",
    "- The color of the plot is \"skyblue\".\n",
    "- The marker is 'o'.\n",
    "- Set the title, x label, and y label."
   ]
  },
  {
   "cell_type": "code",
   "execution_count": null,
   "id": "04c3e147",
   "metadata": {},
   "outputs": [],
   "source": [
    "# Write your code here"
   ]
  },
  {
   "cell_type": "code",
   "execution_count": 30,
   "id": "a6802957",
   "metadata": {},
   "outputs": [
    {
     "data": {
      "image/png": "[encoded data removed]",
      "text/plain": [
       "<Figure size 720x432 with 1 Axes>"
      ]
     },
     "metadata": {
      "needs_background": "light"
     },
     "output_type": "display_data"
    }
   ],
   "source": [
    "# Output :-"
   ]
  },
  {
   "cell_type": "markdown",
   "id": "0720324a",
   "metadata": {},
   "source": [
    "### 3.9 Make a subplot with four histograms\n",
    "\n",
    "- Two rows and two columns.\n",
    "- The first hist : Distribution of app sizes.\n",
    "- The second hist : App rating distribution.\n",
    "- The third hist : Distribution of app installs.\n",
    "- The fourth hist : Distribution of app prices.\n",
    "- Use 30 bins and different colors."
   ]
  },
  {
   "cell_type": "code",
   "execution_count": null,
   "id": "8ada23dd",
   "metadata": {},
   "outputs": [],
   "source": [
    "# Write your code here"
   ]
  },
  {
   "cell_type": "code",
   "execution_count": 31,
   "id": "4b8be814",
   "metadata": {},
   "outputs": [
    {
     "data": {
      "image/png": "[encoded data removed]",
      "text/plain": [
       "<Figure size 864x864 with 4 Axes>"
      ]
     },
     "metadata": {
      "needs_background": "light"
     },
     "output_type": "display_data"
    }
   ],
   "source": [
    "# Output :-"
   ]
  },
  {
   "cell_type": "markdown",
   "id": "69bc0efd",
   "metadata": {},
   "source": [
    "### 3.10 Create a pie chart to visualize the categories.\n",
    "\n",
    "- Take the top 10 apps.\n",
    "- autopct parameter is '%1.1f%%'."
   ]
  },
  {
   "cell_type": "code",
   "execution_count": null,
   "id": "3a3109f6",
   "metadata": {},
   "outputs": [],
   "source": [
    "# Write your code here"
   ]
  },
  {
   "cell_type": "code",
   "execution_count": 32,
   "id": "544c4410",
   "metadata": {},
   "outputs": [
    {
     "data": {
      "image/png": "[encoded data removed]",
      "text/plain": [
       "<Figure size 576x576 with 1 Axes>"
      ]
     },
     "metadata": {},
     "output_type": "display_data"
    }
   ],
   "source": [
    "# Output :-"
   ]
  },
  {
   "cell_type": "markdown",
   "id": "4dfe6453",
   "metadata": {},
   "source": [
    "### 3.11 Pie chart of the distribution of content ratings.\n",
    "\n",
    "- Do not take into account the Unrated value.\n",
    "- So, the number of values are 5 (Everyone, Teen, Mature 17+, Everyone 10+, Adults only 18+).\n",
    "- The figure size is 8 by 8.\n",
    "- Enable the shadow parameter.\n",
    "- Same as the pie chart before.\n",
    "- The explode parameter is = [0.25, 0.15, 0, 0, 0]."
   ]
  },
  {
   "cell_type": "code",
   "execution_count": null,
   "id": "a13be9f7",
   "metadata": {},
   "outputs": [],
   "source": [
    "# Write your code here"
   ]
  },
  {
   "cell_type": "code",
   "execution_count": 33,
   "id": "cbc7c48f",
   "metadata": {},
   "outputs": [
    {
     "data": {
      "image/png": "[encoded data removed]",
      "text/plain": [
       "<Figure size 576x576 with 1 Axes>"
      ]
     },
     "metadata": {},
     "output_type": "display_data"
    }
   ],
   "source": [
    "# Output :-"
   ]
  },
  {
   "cell_type": "markdown",
   "id": "624fdbb4",
   "metadata": {},
   "source": [
    "### 3.12 Create two Box plots in the same figure for Type column\n",
    "\n",
    "- Based on the number of installs.\n",
    "- The figure size is 10 by 6.\n",
    "- Log the y axis by using plt.yscale() method."
   ]
  },
  {
   "cell_type": "code",
   "execution_count": null,
   "id": "43000829",
   "metadata": {},
   "outputs": [],
   "source": [
    "# Write your code here"
   ]
  },
  {
   "cell_type": "code",
   "execution_count": 34,
   "id": "dd12c133",
   "metadata": {},
   "outputs": [
    {
     "data": {
      "image/png": "[encoded data removed]",
      "text/plain": [
       "<Figure size 720x432 with 1 Axes>"
      ]
     },
     "metadata": {
      "needs_background": "light"
     },
     "output_type": "display_data"
    }
   ],
   "source": [
    "# Output :-"
   ]
  },
  {
   "cell_type": "code",
   "execution_count": null,
   "id": "5f76c43f",
   "metadata": {},
   "outputs": [],
   "source": []
  }
 ],
 "metadata": {
  "kernelspec": {
   "display_name": "Python 3 (ipykernel)",
   "language": "python",
   "name": "python3"
  },
  "language_info": {
   "codemirror_mode": {
    "name": "ipython",
    "version": 3
   },
   "file_extension": ".py",
   "mimetype": "text/x-python",
   "name": "python",
   "nbconvert_exporter": "python",
   "pygments_lexer": "ipython3",
   "version": "3.9.13"
  }
 },
 "nbformat": 4,
 "nbformat_minor": 5
}
